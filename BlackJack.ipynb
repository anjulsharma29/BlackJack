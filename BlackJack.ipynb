{
  "cells": [
    {
      "cell_type": "markdown",
      "metadata": {
        "id": "view-in-github",
        "colab_type": "text"
      },
      "source": [
        "<a href=\"https://colab.research.google.com/github/anjulsharma29/BlackJack/blob/main/BlackJack.ipynb\" target=\"_parent\"><img src=\"https://colab.research.google.com/assets/colab-badge.svg\" alt=\"Open In Colab\"/></a>"
      ]
    },
    {
      "cell_type": "code",
      "execution_count": 2,
      "metadata": {
        "colab": {
          "base_uri": "https://localhost:8080/"
        },
        "id": "92gROae-VThF",
        "outputId": "b980f276-b171-492a-d352-faf81500223b"
      },
      "outputs": [
        {
          "output_type": "stream",
          "name": "stdout",
          "text": [
            "Player's hand:\n",
            "Queen of Diamonds\n",
            "5 of Clubs\n",
            "Total value: 15\n",
            "\n",
            "Dealer's hand:\n",
            "9 of Clubs\n",
            "Hidden of Hidden\n",
            "Total value: 9\n",
            "\n",
            "Player score: 15\n",
            "Dealer score: 19\n",
            "Do you want to hit or stand? (h/s): h\n",
            "Player's hand:\n",
            "Queen of Diamonds\n",
            "5 of Clubs\n",
            "10 of Clubs\n",
            "Total value: 25\n",
            "\n",
            "Player score: 25\n",
            "Dealer score: 19\n",
            "Player busts! Dealer wins.\n"
          ]
        }
      ],
      "source": [
        "import random\n",
        "\n",
        "suits = ['Hearts', 'Diamonds', 'Clubs', 'Spades']\n",
        "ranks = ['2', '3', '4', '5', '6', '7', '8', '9', '10', 'Jack', 'Queen', 'King', 'Ace']\n",
        "values = {'2': 2, '3': 3, '4': 4, '5': 5, '6': 6, '7': 7, '8': 8, '9': 9, '10': 10, 'Jack': 10, 'Queen': 10, 'King': 10, 'Ace': 11}\n",
        "\n",
        "deck = [{'suit': suit, 'rank': rank, 'value': values[rank]} for suit in suits for rank in ranks]\n",
        "\n",
        "def shuffle_deck():\n",
        "    global deck\n",
        "    deck = [{'suit': suit, 'rank': rank, 'value': values[rank]} for suit in suits for rank in ranks]\n",
        "    random.shuffle(deck)\n",
        "\n",
        "def deal_card(deck):\n",
        "    return deck.pop()\n",
        "\n",
        "def calculate_hand_value(hand):\n",
        "    value = sum(card['value'] for card in hand)\n",
        "    num_aces = sum(1 for card in hand if card['rank'] == 'Ace')\n",
        "\n",
        "    while value > 21 and num_aces:\n",
        "        value -= 10\n",
        "        num_aces -= 1\n",
        "\n",
        "    return value\n",
        "\n",
        "def display_hand(hand, player):\n",
        "    print(f\"{player}'s hand:\")\n",
        "    for card in hand:\n",
        "        print(f\"{card['rank']} of {card['suit']}\")\n",
        "    print(f\"Total value: {calculate_hand_value(hand)}\\n\")\n",
        "\n",
        "def start_game():\n",
        "    global player_hand, dealer_hand\n",
        "    shuffle_deck()\n",
        "    player_hand = [deal_card(deck), deal_card(deck)]\n",
        "    dealer_hand = [deal_card(deck), deal_card(deck)]\n",
        "    display_hand(player_hand, \"Player\")\n",
        "    display_hand([dealer_hand[0], {'suit': 'Hidden', 'rank': 'Hidden', 'value': 0}], \"Dealer\")\n",
        "    update_scores()\n",
        "\n",
        "def hit():\n",
        "    global player_hand\n",
        "    player_hand.append(deal_card(deck))\n",
        "    display_hand(player_hand, \"Player\")\n",
        "    update_scores()\n",
        "    if calculate_hand_value(player_hand) > 21:\n",
        "        print(\"Player busts! Dealer wins.\")\n",
        "        return True\n",
        "    return False\n",
        "\n",
        "def stand():\n",
        "    global dealer_hand\n",
        "    display_hand(dealer_hand, \"Dealer\")\n",
        "    while calculate_hand_value(dealer_hand) < 17:\n",
        "        dealer_hand.append(deal_card(deck))\n",
        "        display_hand(dealer_hand, \"Dealer\")\n",
        "    update_scores()\n",
        "    determine_winner()\n",
        "\n",
        "def update_scores():\n",
        "    player_score = calculate_hand_value(player_hand)\n",
        "    dealer_score = calculate_hand_value(dealer_hand)\n",
        "    print(f\"Player score: {player_score}\")\n",
        "    print(f\"Dealer score: {dealer_score if dealer_hand[1]['rank'] != 'Hidden' else dealer_hand[0]['value']}\")\n",
        "\n",
        "def determine_winner():\n",
        "    player_score = calculate_hand_value(player_hand)\n",
        "    dealer_score = calculate_hand_value(dealer_hand)\n",
        "    if dealer_score > 21 or player_score > dealer_score:\n",
        "        print(\"Player wins!\")\n",
        "    elif player_score < dealer_score:\n",
        "        print(\"Dealer wins!\")\n",
        "    else:\n",
        "        print(\"It's a tie!\")\n",
        "\n",
        "start_game()\n",
        "game_over = False\n",
        "while not game_over:\n",
        "    action = input(\"Do you want to hit or stand? (h/s): \").lower()\n",
        "    if action == 'h':\n",
        "        game_over = hit()\n",
        "    elif action == 's':\n",
        "        stand()\n",
        "        game_over = True\n",
        "    else:\n",
        "        print(\"Invalid input. Please enter 'h' or 's'.\")\n",
        "\n",
        "\n",
        "\n"
      ]
    }
  ],
  "metadata": {
    "colab": {
      "provenance": [],
      "authorship_tag": "ABX9TyPhBOKK7F5afjWJ4bCEXrWM",
      "include_colab_link": true
    },
    "kernelspec": {
      "display_name": "Python 3",
      "name": "python3"
    },
    "language_info": {
      "name": "python"
    }
  },
  "nbformat": 4,
  "nbformat_minor": 0
}